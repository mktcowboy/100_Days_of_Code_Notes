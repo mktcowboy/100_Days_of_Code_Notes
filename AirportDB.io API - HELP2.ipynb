{
 "cells": [
  {
   "cell_type": "code",
   "execution_count": null,
   "metadata": {},
   "outputs": [],
   "source": [
    "# utilizing airport APIs.."
   ]
  },
  {
   "cell_type": "code",
   "execution_count": null,
   "metadata": {},
   "outputs": [],
   "source": [
    "# code walkthrough..\n",
    "# import airport codes via file..\n",
    "# check APIs (there are two, both work)\n",
    "# work through codes list"
   ]
  },
  {
   "cell_type": "code",
   "execution_count": null,
   "metadata": {},
   "outputs": [],
   "source": [
    "# list of airport codes are in a file in the git\n",
    "\n",
    "# importing the codes\n",
    "# file = r\"airport codes.xlsx\"\n",
    "\n",
    "#initial look at the df\n",
    "# df = pd.read_excel(file)\n",
    "\n",
    "# Codes = df['Codes'] # sets Codes list to variable\n",
    "# Codes # print to check"
   ]
  },
  {
   "cell_type": "code",
   "execution_count": null,
   "metadata": {},
   "outputs": [],
   "source": [
    "# # API #1 info\n",
    "# url = 'https://airportdb.io/api/v1/airport'\n",
    "# token = 'token'\n",
    "# AirportCode = 'KOUN' # set to airport in Norman to check data\n",
    "\n",
    "# # initial API request\n",
    "# response = requests.get(f'{url}/{AirportCode}?{token}').json\n",
    "# # checking response as df\n",
    "# pd.json_normalize(response)"
   ]
  },
  {
   "cell_type": "code",
   "execution_count": null,
   "metadata": {},
   "outputs": [],
   "source": [
    "# code list try 1\n",
    "# def get_data(airportdata):\n",
    "#     responses = []\n",
    "#     for i in df2['Codes']:\n",
    "#         response = requests.get(f'{url}/{i}?{token}').text\n",
    "#         if response.status_code == 200:\n",
    "#             res = json.loads(response.text)\n",
    "#             responses.append(res)\n",
    "#         else:\n",
    "#             raise Exception(f'API error with status code {response.status_code}')\n",
    "\n",
    "#     return pd.df(responses)\n",
    "\n",
    "# # ran no errors but not seeing results"
   ]
  },
  {
   "cell_type": "code",
   "execution_count": null,
   "metadata": {},
   "outputs": [],
   "source": [
    "# # code list try 2\n",
    "# IACO = Codes\n",
    "# responses = list() \n",
    "\n",
    "# for airport_code in Codes:\n",
    "#    r = requests.get('{}/{}?{}'.format(url, IACO, token))\n",
    "#    data=json.loads(r.text)\n",
    "#    responses.append(data)"
   ]
  },
  {
   "cell_type": "code",
   "execution_count": null,
   "metadata": {},
   "outputs": [],
   "source": []
  },
  {
   "cell_type": "code",
   "execution_count": null,
   "metadata": {},
   "outputs": [],
   "source": [
    "# second airport API"
   ]
  },
  {
   "cell_type": "code",
   "execution_count": null,
   "metadata": {},
   "outputs": [],
   "source": [
    "# working request to second airport API\n",
    "# code generated using RapidAPI\n",
    "\n",
    "\n",
    "url = \"https://airport-info.p.rapidapi.com/airport\"\n",
    "querystring = {\"icao\":\"KDFW\"}\n",
    "headers = {\"X-RapidAPI-Key\": 'secret_code',\n",
    "           \"X-RapidAPI-Host\": \"airport-info.p.rapidapi.com\"}\n",
    "\n",
    "# GET request that works\n",
    "response = requests.request(\"GET\", url, headers=headers, params=querystring).json()\n",
    "# checks notmalized response, creates df, prints to check\n",
    "df = pd.json_normalize(response)\n",
    "df"
   ]
  },
  {
   "cell_type": "code",
   "execution_count": null,
   "metadata": {},
   "outputs": [],
   "source": [
    "# code list try 3 on API.2\n",
    "# def get_data(airportdata):\n",
    "#     responses = []\n",
    "#     for i in df2['Codes']:\n",
    "#         api_endpoint = url\n",
    "#         params = {'icao' : i}\n",
    "#         response = requests.request(\"GET\", url, \n",
    "#                                     headers=headers, \n",
    "#                                     params=params)\n",
    "#         if response.status_code == 200:\n",
    "#             res = json.loads(response.text)\n",
    "#         else:\n",
    "#             raise Exception(f'API error with status code {response.status_code}')\n",
    "#         responses.append(res)\n",
    "#     return pd.DataFrame(responses)"
   ]
  },
  {
   "cell_type": "code",
   "execution_count": null,
   "metadata": {},
   "outputs": [],
   "source": []
  },
  {
   "cell_type": "code",
   "execution_count": null,
   "metadata": {},
   "outputs": [],
   "source": []
  },
  {
   "cell_type": "code",
   "execution_count": null,
   "metadata": {},
   "outputs": [],
   "source": [
    "# code below is all other tries that were also unsuccessful"
   ]
  },
  {
   "cell_type": "code",
   "execution_count": null,
   "metadata": {},
   "outputs": [],
   "source": [
    "# # code taken from this stack post - https://stackoverflow.com/questions/58323668/call-api-for-each-element-in-list\n",
    "\n",
    "# def get_data(airportdata):\n",
    "#     response = requests.get(f'{url}/{AirportCode}?{token}').text\n",
    "#     if response.status_code == 200:\n",
    "#         res = json.loads(response.text)\n",
    "#     else:\n",
    "#         raise Exception(f'API error with status code {response.status_code}')\n",
    "\n",
    "#     return res\n",
    "\n",
    "# responses = pd.df3([get_data(airportdata) for i in df2['Codes']])"
   ]
  },
  {
   "cell_type": "code",
   "execution_count": null,
   "metadata": {},
   "outputs": [],
   "source": [
    "# def get_data(airportdata):\n",
    "#     responses = []\n",
    "#     for i in df2['Codes']:\n",
    "#         response = requests.get(f'{url}/{i}?{token}').text\n",
    "#         if response.status_code == 200:\n",
    "#             res = json.loads(response.text)\n",
    "#             responses.append(res)\n",
    "#         else:\n",
    "#             raise Exception(f'API error with status code {response.status_code}')\n",
    "\n",
    "#     return pd.df(responses)\n",
    "\n",
    "# # ran no errors but not seeing results"
   ]
  },
  {
   "cell_type": "code",
   "execution_count": null,
   "metadata": {},
   "outputs": [],
   "source": [
    "# #  https://stackoverflow.com/questions/56206038/how-to-loop-through-paginated-api-using-python\n",
    "# # looping API code..\n",
    "\n",
    "# #Discover API url filtered to movies >= 2004 and containing Drama genre_ID: 18\n",
    "# discover_api_url = 'https://api.themoviedb.org/3/discover/movie? \n",
    "# api_key=['my api key']&language=en-US&sort_by=popularity.desc&include_adult=false&include_video=false&primary_release_year=>%3D2004&with_genres=18'\n",
    "\n",
    "# most_popular_films = []\n",
    "# new_results = True\n",
    "# page = 1\n",
    "# while new_results:\n",
    "#     discover_api = requests.get(discover_api_url + f\"&page={page}\").json()\n",
    "#     new_results = discover_api.get(\"results\", [])\n",
    "#     most_popular_films.extend(new_results)\n",
    "#     page += 1\n",
    "\n",
    "# #printing movie_id and movie_title by popularity desc\n",
    "# for i, film in enumerate(most_popular_films):\n",
    "#     print(i, film['id'], film['title'])"
   ]
  }
 ],
 "metadata": {
  "kernelspec": {
   "display_name": "Python 3 (ipykernel)",
   "language": "python",
   "name": "python3"
  },
  "language_info": {
   "codemirror_mode": {
    "name": "ipython",
    "version": 3
   },
   "file_extension": ".py",
   "mimetype": "text/x-python",
   "name": "python",
   "nbconvert_exporter": "python",
   "pygments_lexer": "ipython3",
   "version": "3.9.7"
  }
 },
 "nbformat": 4,
 "nbformat_minor": 4
}
