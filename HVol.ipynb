{
  "nbformat": 4,
  "nbformat_minor": 0,
  "metadata": {
    "colab": {
      "provenance": [],
      "authorship_tag": "ABX9TyNyvP0STg42xincldXM5yjO",
      "include_colab_link": true
    },
    "kernelspec": {
      "name": "python3",
      "display_name": "Python 3"
    },
    "language_info": {
      "name": "python"
    }
  },
  "cells": [
    {
      "cell_type": "markdown",
      "metadata": {
        "id": "view-in-github",
        "colab_type": "text"
      },
      "source": [
        "<a href=\"https://colab.research.google.com/github/mktcowboy/100_Days_of_Code_Notes/blob/main/HVol.ipynb\" target=\"_parent\"><img src=\"https://colab.research.google.com/assets/colab-badge.svg\" alt=\"Open In Colab\"/></a>"
      ]
    },
    {
      "cell_type": "code",
      "execution_count": null,
      "metadata": {
        "id": "-Mt7AyQU3FPX"
      },
      "outputs": [],
      "source": [
        "import pandas as pd\n",
        "import numpy as np\n",
        "import matplotlib.pyplot as plt\n",
        "import matplotlib.dates as dates\n",
        "import datetime\n",
        "import seaborn as sns\n",
        "import yfinance as yf"
      ]
    },
    {
      "cell_type": "code",
      "source": [
        "# set ticker\n",
        "ticker = 'SPY'\n",
        "\n",
        "# gets all data for ticker\n",
        "df = yf.download(ticker)\n",
        "\n",
        "pd.options.display.float_format = '{:.4f}'.format\n",
        "\n",
        "#making OHLC easier to work with\n",
        "open = df['Open']\n",
        "high = df['High']\n",
        "low = df['Low']\n",
        "close = df['Adj Close']\n",
        "volume = df['Volume']"
      ],
      "metadata": {
        "colab": {
          "base_uri": "https://localhost:8080/"
        },
        "id": "F22zzsKk37Q0",
        "outputId": "e211f78f-e6f7-4d81-d831-e34dbc45d3c6"
      },
      "execution_count": null,
      "outputs": [
        {
          "output_type": "stream",
          "name": "stdout",
          "text": [
            "\r[*********************100%***********************]  1 of 1 completed\n"
          ]
        }
      ]
    },
    {
      "cell_type": "code",
      "source": [
        "# getting change and log change\n",
        "df['1d%ch'] = close.pct_change()*100\n",
        "df['1d%ChLog'] = np.log(close / close.shift(1))\n",
        "# df['log_return'] = np.log(df['1d.%ch'])"
      ],
      "metadata": {
        "id": "p9AxZZ6d4Pe8"
      },
      "execution_count": null,
      "outputs": []
    },
    {
      "cell_type": "code",
      "source": [
        "\n",
        "days = 10\n",
        "\n",
        "df['vol'] = df['1d%ChLog'].rolling(window=days).std() * np.sqrt(days)\n",
        "\n",
        "# using NON log change to check to see how far off it is from the other 2\n",
        "df['vol2'] = close.pct_change().rolling(10).std()\n",
        "\n",
        "# http://techflare.blog/how-to-calculate-historical-volatility-and-sharpe-ratio-in-python/\n",
        "df['vol3'] = df['1d%ChLog'].rolling(window=10).std()*np.sqrt(days)"
      ],
      "metadata": {
        "id": "wsKKA7xv4Xfc"
      },
      "execution_count": null,
      "outputs": []
    },
    {
      "cell_type": "code",
      "source": [
        "df.tail(10)"
      ],
      "metadata": {
        "colab": {
          "base_uri": "https://localhost:8080/",
          "height": 394
        },
        "id": "qXt15unz47qN",
        "outputId": "ef5a1e65-c128-4aea-d39d-ef8fb937a9cc"
      },
      "execution_count": null,
      "outputs": [
        {
          "output_type": "execute_result",
          "data": {
            "text/plain": [
              "               Open     High      Low    Close  Adj Close     Volume   1d%ch  \\\n",
              "Date                                                                           \n",
              "2023-02-02 414.8600 418.3100 412.8800 416.7800   416.7800  101654500  1.4557   \n",
              "2023-02-03 411.5900 416.9700 411.0900 412.3500   412.3500   94647400 -1.0629   \n",
              "2023-02-06 409.7900 411.2900 408.1000 409.8300   409.8300   60295300 -0.6111   \n",
              "2023-02-07 408.8700 416.4900 407.5700 415.1900   415.1900   90990700  1.3079   \n",
              "2023-02-08 413.1300 414.5300 409.9300 410.6500   410.6500   76227500 -1.0935   \n",
              "2023-02-09 414.4100 414.5700 405.8100 407.0900   407.0900   78694900 -0.8669   \n",
              "2023-02-10 405.8600 408.4400 405.0100 408.0400   408.0400   70738000  0.2334   \n",
              "2023-02-13 408.7200 412.9700 408.2400 412.8300   412.8300   64913500  1.1739   \n",
              "2023-02-14 411.2400 415.0500 408.5100 412.6400   412.6400   88249000 -0.0460   \n",
              "2023-02-15 410.3500 411.9400 409.4700 411.5100   411.5100   19828244 -0.2738   \n",
              "\n",
              "            1d%ChLog    vol  volatility  \n",
              "Date                                     \n",
              "2023-02-02    0.0145 0.0301      0.0301  \n",
              "2023-02-03   -0.0107 0.0318      0.0318  \n",
              "2023-02-06   -0.0061 0.0320      0.0320  \n",
              "2023-02-07    0.0130 0.0334      0.0334  \n",
              "2023-02-08   -0.0110 0.0364      0.0364  \n",
              "2023-02-09   -0.0087 0.0367      0.0367  \n",
              "2023-02-10    0.0023 0.0367      0.0367  \n",
              "2023-02-13    0.0117 0.0350      0.0350  \n",
              "2023-02-14   -0.0005 0.0326      0.0326  \n",
              "2023-02-15   -0.0027 0.0312      0.0312  "
            ],
            "text/html": [
              "\n",
              "  <div id=\"df-81b81ef6-83f8-460c-ad89-cdb4753b9ea8\">\n",
              "    <div class=\"colab-df-container\">\n",
              "      <div>\n",
              "<style scoped>\n",
              "    .dataframe tbody tr th:only-of-type {\n",
              "        vertical-align: middle;\n",
              "    }\n",
              "\n",
              "    .dataframe tbody tr th {\n",
              "        vertical-align: top;\n",
              "    }\n",
              "\n",
              "    .dataframe thead th {\n",
              "        text-align: right;\n",
              "    }\n",
              "</style>\n",
              "<table border=\"1\" class=\"dataframe\">\n",
              "  <thead>\n",
              "    <tr style=\"text-align: right;\">\n",
              "      <th></th>\n",
              "      <th>Open</th>\n",
              "      <th>High</th>\n",
              "      <th>Low</th>\n",
              "      <th>Close</th>\n",
              "      <th>Adj Close</th>\n",
              "      <th>Volume</th>\n",
              "      <th>1d%ch</th>\n",
              "      <th>1d%ChLog</th>\n",
              "      <th>vol</th>\n",
              "      <th>volatility</th>\n",
              "    </tr>\n",
              "    <tr>\n",
              "      <th>Date</th>\n",
              "      <th></th>\n",
              "      <th></th>\n",
              "      <th></th>\n",
              "      <th></th>\n",
              "      <th></th>\n",
              "      <th></th>\n",
              "      <th></th>\n",
              "      <th></th>\n",
              "      <th></th>\n",
              "      <th></th>\n",
              "    </tr>\n",
              "  </thead>\n",
              "  <tbody>\n",
              "    <tr>\n",
              "      <th>2023-02-02</th>\n",
              "      <td>414.8600</td>\n",
              "      <td>418.3100</td>\n",
              "      <td>412.8800</td>\n",
              "      <td>416.7800</td>\n",
              "      <td>416.7800</td>\n",
              "      <td>101654500</td>\n",
              "      <td>1.4557</td>\n",
              "      <td>0.0145</td>\n",
              "      <td>0.0301</td>\n",
              "      <td>0.0301</td>\n",
              "    </tr>\n",
              "    <tr>\n",
              "      <th>2023-02-03</th>\n",
              "      <td>411.5900</td>\n",
              "      <td>416.9700</td>\n",
              "      <td>411.0900</td>\n",
              "      <td>412.3500</td>\n",
              "      <td>412.3500</td>\n",
              "      <td>94647400</td>\n",
              "      <td>-1.0629</td>\n",
              "      <td>-0.0107</td>\n",
              "      <td>0.0318</td>\n",
              "      <td>0.0318</td>\n",
              "    </tr>\n",
              "    <tr>\n",
              "      <th>2023-02-06</th>\n",
              "      <td>409.7900</td>\n",
              "      <td>411.2900</td>\n",
              "      <td>408.1000</td>\n",
              "      <td>409.8300</td>\n",
              "      <td>409.8300</td>\n",
              "      <td>60295300</td>\n",
              "      <td>-0.6111</td>\n",
              "      <td>-0.0061</td>\n",
              "      <td>0.0320</td>\n",
              "      <td>0.0320</td>\n",
              "    </tr>\n",
              "    <tr>\n",
              "      <th>2023-02-07</th>\n",
              "      <td>408.8700</td>\n",
              "      <td>416.4900</td>\n",
              "      <td>407.5700</td>\n",
              "      <td>415.1900</td>\n",
              "      <td>415.1900</td>\n",
              "      <td>90990700</td>\n",
              "      <td>1.3079</td>\n",
              "      <td>0.0130</td>\n",
              "      <td>0.0334</td>\n",
              "      <td>0.0334</td>\n",
              "    </tr>\n",
              "    <tr>\n",
              "      <th>2023-02-08</th>\n",
              "      <td>413.1300</td>\n",
              "      <td>414.5300</td>\n",
              "      <td>409.9300</td>\n",
              "      <td>410.6500</td>\n",
              "      <td>410.6500</td>\n",
              "      <td>76227500</td>\n",
              "      <td>-1.0935</td>\n",
              "      <td>-0.0110</td>\n",
              "      <td>0.0364</td>\n",
              "      <td>0.0364</td>\n",
              "    </tr>\n",
              "    <tr>\n",
              "      <th>2023-02-09</th>\n",
              "      <td>414.4100</td>\n",
              "      <td>414.5700</td>\n",
              "      <td>405.8100</td>\n",
              "      <td>407.0900</td>\n",
              "      <td>407.0900</td>\n",
              "      <td>78694900</td>\n",
              "      <td>-0.8669</td>\n",
              "      <td>-0.0087</td>\n",
              "      <td>0.0367</td>\n",
              "      <td>0.0367</td>\n",
              "    </tr>\n",
              "    <tr>\n",
              "      <th>2023-02-10</th>\n",
              "      <td>405.8600</td>\n",
              "      <td>408.4400</td>\n",
              "      <td>405.0100</td>\n",
              "      <td>408.0400</td>\n",
              "      <td>408.0400</td>\n",
              "      <td>70738000</td>\n",
              "      <td>0.2334</td>\n",
              "      <td>0.0023</td>\n",
              "      <td>0.0367</td>\n",
              "      <td>0.0367</td>\n",
              "    </tr>\n",
              "    <tr>\n",
              "      <th>2023-02-13</th>\n",
              "      <td>408.7200</td>\n",
              "      <td>412.9700</td>\n",
              "      <td>408.2400</td>\n",
              "      <td>412.8300</td>\n",
              "      <td>412.8300</td>\n",
              "      <td>64913500</td>\n",
              "      <td>1.1739</td>\n",
              "      <td>0.0117</td>\n",
              "      <td>0.0350</td>\n",
              "      <td>0.0350</td>\n",
              "    </tr>\n",
              "    <tr>\n",
              "      <th>2023-02-14</th>\n",
              "      <td>411.2400</td>\n",
              "      <td>415.0500</td>\n",
              "      <td>408.5100</td>\n",
              "      <td>412.6400</td>\n",
              "      <td>412.6400</td>\n",
              "      <td>88249000</td>\n",
              "      <td>-0.0460</td>\n",
              "      <td>-0.0005</td>\n",
              "      <td>0.0326</td>\n",
              "      <td>0.0326</td>\n",
              "    </tr>\n",
              "    <tr>\n",
              "      <th>2023-02-15</th>\n",
              "      <td>410.3500</td>\n",
              "      <td>411.9400</td>\n",
              "      <td>409.4700</td>\n",
              "      <td>411.5100</td>\n",
              "      <td>411.5100</td>\n",
              "      <td>19828244</td>\n",
              "      <td>-0.2738</td>\n",
              "      <td>-0.0027</td>\n",
              "      <td>0.0312</td>\n",
              "      <td>0.0312</td>\n",
              "    </tr>\n",
              "  </tbody>\n",
              "</table>\n",
              "</div>\n",
              "      <button class=\"colab-df-convert\" onclick=\"convertToInteractive('df-81b81ef6-83f8-460c-ad89-cdb4753b9ea8')\"\n",
              "              title=\"Convert this dataframe to an interactive table.\"\n",
              "              style=\"display:none;\">\n",
              "        \n",
              "  <svg xmlns=\"http://www.w3.org/2000/svg\" height=\"24px\"viewBox=\"0 0 24 24\"\n",
              "       width=\"24px\">\n",
              "    <path d=\"M0 0h24v24H0V0z\" fill=\"none\"/>\n",
              "    <path d=\"M18.56 5.44l.94 2.06.94-2.06 2.06-.94-2.06-.94-.94-2.06-.94 2.06-2.06.94zm-11 1L8.5 8.5l.94-2.06 2.06-.94-2.06-.94L8.5 2.5l-.94 2.06-2.06.94zm10 10l.94 2.06.94-2.06 2.06-.94-2.06-.94-.94-2.06-.94 2.06-2.06.94z\"/><path d=\"M17.41 7.96l-1.37-1.37c-.4-.4-.92-.59-1.43-.59-.52 0-1.04.2-1.43.59L10.3 9.45l-7.72 7.72c-.78.78-.78 2.05 0 2.83L4 21.41c.39.39.9.59 1.41.59.51 0 1.02-.2 1.41-.59l7.78-7.78 2.81-2.81c.8-.78.8-2.07 0-2.86zM5.41 20L4 18.59l7.72-7.72 1.47 1.35L5.41 20z\"/>\n",
              "  </svg>\n",
              "      </button>\n",
              "      \n",
              "  <style>\n",
              "    .colab-df-container {\n",
              "      display:flex;\n",
              "      flex-wrap:wrap;\n",
              "      gap: 12px;\n",
              "    }\n",
              "\n",
              "    .colab-df-convert {\n",
              "      background-color: #E8F0FE;\n",
              "      border: none;\n",
              "      border-radius: 50%;\n",
              "      cursor: pointer;\n",
              "      display: none;\n",
              "      fill: #1967D2;\n",
              "      height: 32px;\n",
              "      padding: 0 0 0 0;\n",
              "      width: 32px;\n",
              "    }\n",
              "\n",
              "    .colab-df-convert:hover {\n",
              "      background-color: #E2EBFA;\n",
              "      box-shadow: 0px 1px 2px rgba(60, 64, 67, 0.3), 0px 1px 3px 1px rgba(60, 64, 67, 0.15);\n",
              "      fill: #174EA6;\n",
              "    }\n",
              "\n",
              "    [theme=dark] .colab-df-convert {\n",
              "      background-color: #3B4455;\n",
              "      fill: #D2E3FC;\n",
              "    }\n",
              "\n",
              "    [theme=dark] .colab-df-convert:hover {\n",
              "      background-color: #434B5C;\n",
              "      box-shadow: 0px 1px 3px 1px rgba(0, 0, 0, 0.15);\n",
              "      filter: drop-shadow(0px 1px 2px rgba(0, 0, 0, 0.3));\n",
              "      fill: #FFFFFF;\n",
              "    }\n",
              "  </style>\n",
              "\n",
              "      <script>\n",
              "        const buttonEl =\n",
              "          document.querySelector('#df-81b81ef6-83f8-460c-ad89-cdb4753b9ea8 button.colab-df-convert');\n",
              "        buttonEl.style.display =\n",
              "          google.colab.kernel.accessAllowed ? 'block' : 'none';\n",
              "\n",
              "        async function convertToInteractive(key) {\n",
              "          const element = document.querySelector('#df-81b81ef6-83f8-460c-ad89-cdb4753b9ea8');\n",
              "          const dataTable =\n",
              "            await google.colab.kernel.invokeFunction('convertToInteractive',\n",
              "                                                     [key], {});\n",
              "          if (!dataTable) return;\n",
              "\n",
              "          const docLinkHtml = 'Like what you see? Visit the ' +\n",
              "            '<a target=\"_blank\" href=https://colab.research.google.com/notebooks/data_table.ipynb>data table notebook</a>'\n",
              "            + ' to learn more about interactive tables.';\n",
              "          element.innerHTML = '';\n",
              "          dataTable['output_type'] = 'display_data';\n",
              "          await google.colab.output.renderOutput(dataTable, element);\n",
              "          const docLink = document.createElement('div');\n",
              "          docLink.innerHTML = docLinkHtml;\n",
              "          element.appendChild(docLink);\n",
              "        }\n",
              "      </script>\n",
              "    </div>\n",
              "  </div>\n",
              "  "
            ]
          },
          "metadata": {},
          "execution_count": 9
        }
      ]
    },
    {
      "cell_type": "code",
      "source": [
        "df[['Adj Close', 'vol']].plot(subplots=True, color='blue',figsize=(8, 6))"
      ],
      "metadata": {
        "colab": {
          "base_uri": "https://localhost:8080/",
          "height": 419
        },
        "id": "N7Kl5hUf4kez",
        "outputId": "49b30bc4-b034-442b-bcf7-7c23df48bef2"
      },
      "execution_count": null,
      "outputs": [
        {
          "output_type": "execute_result",
          "data": {
            "text/plain": [
              "array([<matplotlib.axes._subplots.AxesSubplot object at 0x7fb01a0ee820>,\n",
              "       <matplotlib.axes._subplots.AxesSubplot object at 0x7fb01a0a96a0>],\n",
              "      dtype=object)"
            ]
          },
          "metadata": {},
          "execution_count": 7
        },
        {
          "output_type": "display_data",
          "data": {
            "text/plain": [
              "<Figure size 576x432 with 2 Axes>"
            ],
            "image/png": "[encoded data removed]"
          },
          "metadata": {
            "needs_background": "light"
          }
        }
      ]
    },
    {
      "cell_type": "code",
      "source": [
        "df2 = df.loc['2018-1-1' : '2022-12-31']\n",
        "df2[['Adj Close', 'vol']].plot(subplots=True, color='blue',figsize=(8, 6))"
      ],
      "metadata": {
        "colab": {
          "base_uri": "https://localhost:8080/",
          "height": 419
        },
        "id": "OxDoOp0d4nVs",
        "outputId": "139f4bcd-1d6f-4f9f-8c53-5cfc64d5a8ea"
      },
      "execution_count": null,
      "outputs": [
        {
          "output_type": "execute_result",
          "data": {
            "text/plain": [
              "array([<matplotlib.axes._subplots.AxesSubplot object at 0x7fb01a174070>,\n",
              "       <matplotlib.axes._subplots.AxesSubplot object at 0x7fb019ef4b50>],\n",
              "      dtype=object)"
            ]
          },
          "metadata": {},
          "execution_count": 8
        },
        {
          "output_type": "display_data",
          "data": {
            "text/plain": [
              "<Figure size 576x432 with 2 Axes>"
            ],
            "image/png": "[encoded data removed]"
          },
          "metadata": {
            "needs_background": "light"
          }
        }
      ]
    },
    {
      "cell_type": "code",
      "source": [],
      "metadata": {
        "id": "n9nJOg3u4pvL"
      },
      "execution_count": null,
      "outputs": []
    }
  ]
}